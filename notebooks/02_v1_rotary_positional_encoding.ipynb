{
  "nbformat": 4,
  "nbformat_minor": 0,
  "metadata": {
    "colab": {
      "provenance": []
    },
    "kernelspec": {
      "name": "python3",
      "display_name": "Python 3"
    },
    "language_info": {
      "name": "python"
    }
  },
  "cells": [
    {
      "cell_type": "markdown",
      "source": [
        "# RoPE Implementation"
      ],
      "metadata": {
        "id": "s-3wjRaLuDRA"
      }
    },
    {
      "cell_type": "code",
      "execution_count": 1,
      "metadata": {
        "colab": {
          "base_uri": "https://localhost:8080/"
        },
        "id": "A7cue0nUuCPq",
        "outputId": "866bb3a7-16ef-489d-b48b-8189ffd06267"
      },
      "outputs": [
        {
          "output_type": "stream",
          "name": "stdout",
          "text": [
            "Requirement already satisfied: torch in /usr/local/lib/python3.12/dist-packages (2.8.0+cu126)\n",
            "Requirement already satisfied: filelock in /usr/local/lib/python3.12/dist-packages (from torch) (3.20.0)\n",
            "Requirement already satisfied: typing-extensions>=4.10.0 in /usr/local/lib/python3.12/dist-packages (from torch) (4.15.0)\n",
            "Requirement already satisfied: setuptools in /usr/local/lib/python3.12/dist-packages (from torch) (75.2.0)\n",
            "Requirement already satisfied: sympy>=1.13.3 in /usr/local/lib/python3.12/dist-packages (from torch) (1.13.3)\n",
            "Requirement already satisfied: networkx in /usr/local/lib/python3.12/dist-packages (from torch) (3.5)\n",
            "Requirement already satisfied: jinja2 in /usr/local/lib/python3.12/dist-packages (from torch) (3.1.6)\n",
            "Requirement already satisfied: fsspec in /usr/local/lib/python3.12/dist-packages (from torch) (2025.3.0)\n",
            "Requirement already satisfied: nvidia-cuda-nvrtc-cu12==12.6.77 in /usr/local/lib/python3.12/dist-packages (from torch) (12.6.77)\n",
            "Requirement already satisfied: nvidia-cuda-runtime-cu12==12.6.77 in /usr/local/lib/python3.12/dist-packages (from torch) (12.6.77)\n",
            "Requirement already satisfied: nvidia-cuda-cupti-cu12==12.6.80 in /usr/local/lib/python3.12/dist-packages (from torch) (12.6.80)\n",
            "Requirement already satisfied: nvidia-cudnn-cu12==9.10.2.21 in /usr/local/lib/python3.12/dist-packages (from torch) (9.10.2.21)\n",
            "Requirement already satisfied: nvidia-cublas-cu12==12.6.4.1 in /usr/local/lib/python3.12/dist-packages (from torch) (12.6.4.1)\n",
            "Requirement already satisfied: nvidia-cufft-cu12==11.3.0.4 in /usr/local/lib/python3.12/dist-packages (from torch) (11.3.0.4)\n",
            "Requirement already satisfied: nvidia-curand-cu12==10.3.7.77 in /usr/local/lib/python3.12/dist-packages (from torch) (10.3.7.77)\n",
            "Requirement already satisfied: nvidia-cusolver-cu12==11.7.1.2 in /usr/local/lib/python3.12/dist-packages (from torch) (11.7.1.2)\n",
            "Requirement already satisfied: nvidia-cusparse-cu12==12.5.4.2 in /usr/local/lib/python3.12/dist-packages (from torch) (12.5.4.2)\n",
            "Requirement already satisfied: nvidia-cusparselt-cu12==0.7.1 in /usr/local/lib/python3.12/dist-packages (from torch) (0.7.1)\n",
            "Requirement already satisfied: nvidia-nccl-cu12==2.27.3 in /usr/local/lib/python3.12/dist-packages (from torch) (2.27.3)\n",
            "Requirement already satisfied: nvidia-nvtx-cu12==12.6.77 in /usr/local/lib/python3.12/dist-packages (from torch) (12.6.77)\n",
            "Requirement already satisfied: nvidia-nvjitlink-cu12==12.6.85 in /usr/local/lib/python3.12/dist-packages (from torch) (12.6.85)\n",
            "Requirement already satisfied: nvidia-cufile-cu12==1.11.1.6 in /usr/local/lib/python3.12/dist-packages (from torch) (1.11.1.6)\n",
            "Requirement already satisfied: triton==3.4.0 in /usr/local/lib/python3.12/dist-packages (from torch) (3.4.0)\n",
            "Requirement already satisfied: mpmath<1.4,>=1.1.0 in /usr/local/lib/python3.12/dist-packages (from sympy>=1.13.3->torch) (1.3.0)\n",
            "Requirement already satisfied: MarkupSafe>=2.0 in /usr/local/lib/python3.12/dist-packages (from jinja2->torch) (3.0.3)\n"
          ]
        }
      ],
      "source": [
        "%pip install torch"
      ]
    },
    {
      "cell_type": "code",
      "source": [
        "import torch\n",
        "import torch.nn as nn\n",
        "import torch.nn.functional as F\n",
        "import math\n",
        "from typing import Dict, Optional, Tuple"
      ],
      "metadata": {
        "id": "Xs5demlZuXN3"
      },
      "execution_count": 6,
      "outputs": []
    },
    {
      "cell_type": "code",
      "source": [
        "def build_config(\n",
        "    hidden_size=128,\n",
        "    num_heads=16,\n",
        "    num_kv_heads=4,\n",
        "    max_positional_encodings=256,\n",
        "    rope_theta=10000.0,\n",
        "    rms_norm_eps=1e-5,\n",
        "    attention_bias=False,\n",
        "    attention_dropout=0.1,\n",
        "    use_qk_norm=True,\n",
        "):\n",
        "    assert hidden_size % num_heads == 0, \"hidden_size must be divisible by num_heads\"\n",
        "\n",
        "    return {\n",
        "        \"hidden_size\": hidden_size,\n",
        "        \"num_heads\": num_heads,\n",
        "        \"num_kv_heads\": num_kv_heads,\n",
        "        \"max_positional_encodings\": max_positional_encodings,\n",
        "        \"rope_theta\": rope_theta,\n",
        "        \"rms_norm_eps\": rms_norm_eps,\n",
        "        \"attention_bias\": attention_bias,\n",
        "        \"attention_dropout\": attention_dropout,\n",
        "        \"use_qk_norm\": use_qk_norm,\n",
        "        \"head_dim\": hidden_size // num_heads,\n",
        "    }\n",
        "\n",
        "CONFIG = build_config()"
      ],
      "metadata": {
        "id": "MdZ1oneju5yv"
      },
      "execution_count": 4,
      "outputs": []
    },
    {
      "cell_type": "code",
      "source": [
        "class RoPE(nn.Module):\n",
        "  def __init__(self, head_dim: int, max_position_embeddings: int = 2048, rope_theta: float = 10000.0):\n",
        "    super().__init__()\n",
        "    self.head_dim = head_dim\n",
        "    self.max_position_embeddings = max_position_embeddings\n",
        "    self.rope_theta = rope_theta\n",
        "\n",
        "    inv_freq = 1.0 / (self.rope_theta**(torch.arange(0, self.head_dim, 2).float()/self.head_dim))\n",
        "    t = torch.arange(self.max_position_embeddings, dtype=torch.float)\n",
        "    freqs = torch.einsum(\"i,j->ij\", t, inv_freq)\n",
        "\n",
        "    self.register_buffers(freqs)\n",
        "\n",
        "  def register_buffers(self, freqs: torch.Tensor):\n",
        "    self.cos_cached = freqs.cos()\n",
        "    self.sin_cached = freqs.sin()\n",
        "\n",
        "  def rotate_half(self, x):\n",
        "    x1 = x[..., ::2]\n",
        "    x2 = x[..., 1::2]\n",
        "    return torch.stack((-x2, x1), dim=-1).reshape_as(x)\n",
        "\n",
        "  def apply_rotary(self, x, pos):\n",
        "    cos = self.cos_cached[pos][:, None, None, :]\n",
        "    sin = self.sin_cached[pos][:, None, None, :]\n",
        "\n",
        "    cos = torch.repeat_interleave(cos, 2, dim=-1)\n",
        "    sin = torch.repeat_interleave(sin, 2, dim=-1)\n",
        "\n",
        "    return (x * cos) + (self.rotate_half(x) * sin)"
      ],
      "metadata": {
        "id": "YHZ3NMM3ulKg"
      },
      "execution_count": 8,
      "outputs": []
    },
    {
      "cell_type": "code",
      "source": [
        "rope = RoPE(CONFIG[\"head_dim\"], CONFIG[\"max_positional_encodings\"], CONFIG[\"rope_theta\"])"
      ],
      "metadata": {
        "id": "5SnpDcFh5-t6"
      },
      "execution_count": 9,
      "outputs": []
    }
  ]
}